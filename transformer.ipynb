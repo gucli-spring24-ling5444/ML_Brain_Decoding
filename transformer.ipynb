{
  "cells": [
    {
      "cell_type": "code",
      "execution_count": 1,
      "metadata": {
        "id": "A3_pOQhmJ2dy"
      },
      "outputs": [],
      "source": [
        "import torch\n",
        "import torch.nn as nn\n",
        "import torch.optim as optim\n",
        "from sklearn.metrics import accuracy_score\n",
        "from sklearn.metrics import classification_report"
      ]
    },
    {
      "cell_type": "code",
      "source": [
        "from google.colab import drive\n",
        "drive.mount('/content/drive')"
      ],
      "metadata": {
        "colab": {
          "base_uri": "https://localhost:8080/"
        },
        "id": "hGAo25oTKEPO",
        "outputId": "6b454562-d7cf-4880-b43a-db023c3d6090"
      },
      "execution_count": 2,
      "outputs": [
        {
          "output_type": "stream",
          "name": "stdout",
          "text": [
            "Mounted at /content/drive\n"
          ]
        }
      ]
    },
    {
      "cell_type": "code",
      "source": [
        "#%cd /content/drive/MyDrive/Georgetown/BrainDecoding"
      ],
      "metadata": {
        "colab": {
          "base_uri": "https://localhost:8080/"
        },
        "id": "9io1J_Q5J3Wv",
        "outputId": "6694e51d-55bb-41d5-9882-64e85d8dfdae"
      },
      "execution_count": 3,
      "outputs": [
        {
          "output_type": "stream",
          "name": "stdout",
          "text": [
            "/content/drive/MyDrive/Georgetown/BrainDecoding\n"
          ]
        }
      ]
    },
    {
      "cell_type": "code",
      "source": [
        "device = torch.device('cuda' if torch.cuda.is_available() else 'cpu')"
      ],
      "metadata": {
        "id": "YMdUyT8ATFoZ"
      },
      "execution_count": 4,
      "outputs": []
    },
    {
      "cell_type": "code",
      "execution_count": 5,
      "metadata": {
        "id": "GxMy0ZqXJ2dy"
      },
      "outputs": [],
      "source": [
        "class TransformerClassifier(nn.Module):\n",
        "    def __init__(self, input_size, hidden_size, output_size, num_layers, num_heads, dropout):\n",
        "        super(TransformerClassifier, self).__init__()\n",
        "        self.transformer = nn.TransformerEncoderLayer(input_size, num_heads, hidden_size, dropout)\n",
        "        self.encoder = nn.TransformerEncoder(self.transformer, num_layers)\n",
        "        self.fc = nn.Linear(input_size, output_size)\n",
        "\n",
        "    def forward(self, src):\n",
        "        src = src.permute(1, 0, 2)  # Change shape from (seq_len, batch_size, input_size) to (batch_size, seq_len, input_size)\n",
        "        src = self.encoder(src)\n",
        "        src = src.mean(dim=0)  # average pooling to get the representation of an entire sequence\n",
        "        out = self.fc(src)\n",
        "        return out.squeeze(1)"
      ]
    },
    {
      "cell_type": "code",
      "execution_count": 6,
      "metadata": {
        "id": "GInoW6-vJ2dy"
      },
      "outputs": [],
      "source": [
        "input_size = 200  # Dimensionality of each vector\n",
        "hidden_size = 128\n",
        "output_size = 1\n",
        "num_layers = 6  # Number of Transformer encoder layers\n",
        "num_heads = 4  # Number of attention heads\n",
        "dropout = 0.1\n",
        "num_epochs = 135\n",
        "lr = 0.001\n"
      ]
    },
    {
      "cell_type": "code",
      "execution_count": 7,
      "metadata": {
        "id": "Ld_7dVmFJ2dz"
      },
      "outputs": [],
      "source": [
        "Xtrain = torch.load('preprocessed_data/Xtrain.pt').to(device)\n",
        "ytrain = torch.load('preprocessed_data/ytrain.pt').unsqueeze(1).to(device)\n",
        "Xdev = torch.load('preprocessed_data/Xdev.pt').to(device)\n",
        "ydev= torch.load('preprocessed_data/ydev.pt').unsqueeze(1).to(device)"
      ]
    },
    {
      "cell_type": "code",
      "execution_count": 7,
      "metadata": {
        "colab": {
          "base_uri": "https://localhost:8080/"
        },
        "id": "qu6s11hdJ2dz",
        "outputId": "d021d730-2531-4c9f-99b6-13d7c41857ee"
      },
      "outputs": [
        {
          "output_type": "stream",
          "name": "stderr",
          "text": [
            "/usr/local/lib/python3.10/dist-packages/torch/nn/modules/transformer.py:286: UserWarning: enable_nested_tensor is True, but self.use_nested_tensor is False because encoder_layer.self_attn.batch_first was not True(use batch_first for better inference performance)\n",
            "  warnings.warn(f\"enable_nested_tensor is True, but self.use_nested_tensor is False because {why_not_sparsity_fast_path}\")\n"
          ]
        }
      ],
      "source": [
        "model = TransformerClassifier(input_size, hidden_size, output_size, num_layers, num_heads, dropout).to(device)\n",
        "criterion = nn.BCEWithLogitsLoss()  # Binary cross-entropy loss\n",
        "optimizer = optim.Adam(model.parameters(), lr=lr)"
      ]
    },
    {
      "cell_type": "code",
      "source": [
        "pytorch_total_params = sum(p.numel() for p in model.parameters() if p.requires_grad)\n",
        "print(pytorch_total_params)"
      ],
      "metadata": {
        "colab": {
          "base_uri": "https://localhost:8080/"
        },
        "id": "bCJVFtj3EFs1",
        "outputId": "9c72f788-ab71-4e15-a1a9-78aa0a07c12a"
      },
      "execution_count": 8,
      "outputs": [
        {
          "output_type": "stream",
          "name": "stdout",
          "text": [
            "1492097\n"
          ]
        }
      ]
    },
    {
      "cell_type": "code",
      "execution_count": 29,
      "metadata": {
        "colab": {
          "base_uri": "https://localhost:8080/"
        },
        "id": "akGZkvtXJ2dz",
        "outputId": "2b9ad40e-adbf-4ab2-a1cd-8474a351a818"
      },
      "outputs": [
        {
          "output_type": "stream",
          "name": "stdout",
          "text": [
            "Epoch [1/135], Train Loss: 0.7515\n",
            "Dev Accuracy: 0.4955\n",
            "Epoch [2/135], Train Loss: 0.8617\n",
            "Dev Accuracy: 0.5016\n",
            "Epoch [3/135], Train Loss: 0.7334\n",
            "Dev Accuracy: 0.5119\n",
            "Epoch [4/135], Train Loss: 0.7279\n",
            "Dev Accuracy: 0.5257\n",
            "Epoch [5/135], Train Loss: 0.6931\n",
            "Dev Accuracy: 0.5180\n",
            "Epoch [6/135], Train Loss: 0.7036\n",
            "Dev Accuracy: 0.5226\n",
            "Epoch [7/135], Train Loss: 0.7077\n",
            "Dev Accuracy: 0.5332\n",
            "Epoch [8/135], Train Loss: 0.6955\n",
            "Dev Accuracy: 0.5490\n",
            "Epoch [9/135], Train Loss: 0.6883\n",
            "Dev Accuracy: 0.5255\n",
            "Epoch [10/135], Train Loss: 0.6920\n",
            "Dev Accuracy: 0.5042\n",
            "Epoch [11/135], Train Loss: 0.6956\n",
            "Dev Accuracy: 0.5211\n",
            "Epoch [12/135], Train Loss: 0.6928\n",
            "Dev Accuracy: 0.5441\n",
            "Epoch [13/135], Train Loss: 0.6878\n",
            "Dev Accuracy: 0.5416\n",
            "Epoch [14/135], Train Loss: 0.6867\n",
            "Dev Accuracy: 0.5398\n",
            "Epoch [15/135], Train Loss: 0.6884\n",
            "Dev Accuracy: 0.5341\n",
            "Epoch [16/135], Train Loss: 0.6899\n",
            "Dev Accuracy: 0.5347\n",
            "Epoch [17/135], Train Loss: 0.6891\n",
            "Dev Accuracy: 0.5324\n",
            "Epoch [18/135], Train Loss: 0.6863\n",
            "Dev Accuracy: 0.5424\n",
            "Epoch [19/135], Train Loss: 0.6843\n",
            "Dev Accuracy: 0.5493\n",
            "Epoch [20/135], Train Loss: 0.6845\n",
            "Dev Accuracy: 0.5427\n",
            "Epoch [21/135], Train Loss: 0.6849\n",
            "Dev Accuracy: 0.5407\n",
            "Epoch [22/135], Train Loss: 0.6853\n",
            "Dev Accuracy: 0.5372\n",
            "Epoch [23/135], Train Loss: 0.6841\n",
            "Dev Accuracy: 0.5430\n",
            "Epoch [24/135], Train Loss: 0.6825\n",
            "Dev Accuracy: 0.5499\n",
            "Epoch [25/135], Train Loss: 0.6810\n",
            "Dev Accuracy: 0.5522\n",
            "Epoch [26/135], Train Loss: 0.6807\n",
            "Dev Accuracy: 0.5496\n",
            "Epoch [27/135], Train Loss: 0.6808\n",
            "Dev Accuracy: 0.5496\n",
            "Epoch [28/135], Train Loss: 0.6803\n",
            "Dev Accuracy: 0.5502\n",
            "Epoch [29/135], Train Loss: 0.6791\n",
            "Dev Accuracy: 0.5482\n",
            "Epoch [30/135], Train Loss: 0.6781\n",
            "Dev Accuracy: 0.5490\n",
            "Epoch [31/135], Train Loss: 0.6770\n",
            "Dev Accuracy: 0.5519\n",
            "Epoch [32/135], Train Loss: 0.6772\n",
            "Dev Accuracy: 0.5545\n",
            "Epoch [33/135], Train Loss: 0.6768\n",
            "Dev Accuracy: 0.5522\n",
            "Epoch [34/135], Train Loss: 0.6756\n",
            "Dev Accuracy: 0.5502\n",
            "Epoch [35/135], Train Loss: 0.6744\n",
            "Dev Accuracy: 0.5502\n",
            "Epoch [36/135], Train Loss: 0.6735\n",
            "Dev Accuracy: 0.5539\n",
            "Epoch [37/135], Train Loss: 0.6733\n",
            "Dev Accuracy: 0.5539\n",
            "Epoch [38/135], Train Loss: 0.6721\n",
            "Dev Accuracy: 0.5539\n",
            "Epoch [39/135], Train Loss: 0.6711\n",
            "Dev Accuracy: 0.5571\n",
            "Epoch [40/135], Train Loss: 0.6699\n",
            "Dev Accuracy: 0.5577\n",
            "Epoch [41/135], Train Loss: 0.6692\n",
            "Dev Accuracy: 0.5557\n",
            "Epoch [42/135], Train Loss: 0.6677\n",
            "Dev Accuracy: 0.5493\n",
            "Epoch [43/135], Train Loss: 0.6663\n",
            "Dev Accuracy: 0.5462\n",
            "Epoch [44/135], Train Loss: 0.6649\n",
            "Dev Accuracy: 0.5467\n",
            "Epoch [45/135], Train Loss: 0.6635\n",
            "Dev Accuracy: 0.5528\n",
            "Epoch [46/135], Train Loss: 0.6613\n",
            "Dev Accuracy: 0.5542\n",
            "Epoch [47/135], Train Loss: 0.6587\n",
            "Dev Accuracy: 0.5464\n",
            "Epoch [48/135], Train Loss: 0.6565\n",
            "Dev Accuracy: 0.5496\n",
            "Epoch [49/135], Train Loss: 0.6536\n",
            "Dev Accuracy: 0.5456\n",
            "Epoch [50/135], Train Loss: 0.6504\n",
            "Dev Accuracy: 0.5467\n",
            "Epoch [51/135], Train Loss: 0.6477\n",
            "Dev Accuracy: 0.5401\n",
            "Epoch [52/135], Train Loss: 0.6520\n",
            "Dev Accuracy: 0.5433\n",
            "Epoch [53/135], Train Loss: 0.6690\n",
            "Dev Accuracy: 0.5499\n",
            "Epoch [54/135], Train Loss: 0.6479\n",
            "Dev Accuracy: 0.5459\n",
            "Epoch [55/135], Train Loss: 0.6492\n",
            "Dev Accuracy: 0.5591\n",
            "Epoch [56/135], Train Loss: 0.6362\n",
            "Dev Accuracy: 0.5505\n",
            "Epoch [57/135], Train Loss: 0.6424\n",
            "Dev Accuracy: 0.5548\n",
            "Epoch [58/135], Train Loss: 0.6286\n",
            "Dev Accuracy: 0.5459\n",
            "Epoch [59/135], Train Loss: 0.6294\n",
            "Dev Accuracy: 0.5594\n",
            "Epoch [60/135], Train Loss: 0.6241\n",
            "Dev Accuracy: 0.5634\n",
            "Epoch [61/135], Train Loss: 0.6144\n",
            "Dev Accuracy: 0.5626\n",
            "Epoch [62/135], Train Loss: 0.6120\n",
            "Dev Accuracy: 0.5574\n",
            "Epoch [63/135], Train Loss: 0.6026\n",
            "Dev Accuracy: 0.5620\n",
            "Epoch [64/135], Train Loss: 0.5969\n",
            "Dev Accuracy: 0.5683\n",
            "Epoch [65/135], Train Loss: 0.5915\n",
            "Dev Accuracy: 0.5720\n",
            "Epoch [66/135], Train Loss: 0.5942\n",
            "Dev Accuracy: 0.5683\n",
            "Epoch [67/135], Train Loss: 0.5943\n",
            "Dev Accuracy: 0.5666\n",
            "Epoch [68/135], Train Loss: 0.5910\n",
            "Dev Accuracy: 0.5741\n",
            "Epoch [69/135], Train Loss: 0.5681\n",
            "Dev Accuracy: 0.5746\n",
            "Epoch [70/135], Train Loss: 0.5675\n",
            "Dev Accuracy: 0.5649\n",
            "Epoch [71/135], Train Loss: 0.5629\n",
            "Dev Accuracy: 0.5761\n",
            "Epoch [72/135], Train Loss: 0.5518\n",
            "Dev Accuracy: 0.5703\n",
            "Epoch [73/135], Train Loss: 0.5454\n",
            "Dev Accuracy: 0.5700\n",
            "Epoch [74/135], Train Loss: 0.5367\n",
            "Dev Accuracy: 0.5781\n",
            "Epoch [75/135], Train Loss: 0.5291\n",
            "Dev Accuracy: 0.5761\n",
            "Epoch [76/135], Train Loss: 0.5150\n",
            "Dev Accuracy: 0.5787\n",
            "Epoch [77/135], Train Loss: 0.5143\n",
            "Dev Accuracy: 0.5718\n",
            "Epoch [78/135], Train Loss: 0.5089\n",
            "Dev Accuracy: 0.5643\n",
            "Epoch [79/135], Train Loss: 0.5165\n",
            "Dev Accuracy: 0.5695\n",
            "Epoch [80/135], Train Loss: 0.5047\n",
            "Dev Accuracy: 0.5798\n",
            "Epoch [81/135], Train Loss: 0.4815\n",
            "Dev Accuracy: 0.5850\n",
            "Epoch [82/135], Train Loss: 0.4663\n",
            "Dev Accuracy: 0.5746\n",
            "Epoch [83/135], Train Loss: 0.4768\n",
            "Dev Accuracy: 0.5815\n",
            "Epoch [84/135], Train Loss: 0.4605\n",
            "Dev Accuracy: 0.5824\n",
            "Epoch [85/135], Train Loss: 0.4414\n",
            "Dev Accuracy: 0.5787\n",
            "Epoch [86/135], Train Loss: 0.4505\n",
            "Dev Accuracy: 0.5758\n",
            "Epoch [87/135], Train Loss: 0.4389\n",
            "Dev Accuracy: 0.5741\n",
            "Epoch [88/135], Train Loss: 0.4185\n",
            "Dev Accuracy: 0.5778\n",
            "Epoch [89/135], Train Loss: 0.4169\n",
            "Dev Accuracy: 0.5741\n",
            "Epoch [90/135], Train Loss: 0.4187\n",
            "Dev Accuracy: 0.5781\n",
            "Epoch [91/135], Train Loss: 0.3908\n",
            "Dev Accuracy: 0.5778\n",
            "Epoch [92/135], Train Loss: 0.3899\n",
            "Dev Accuracy: 0.5715\n",
            "Epoch [93/135], Train Loss: 0.3967\n",
            "Dev Accuracy: 0.5867\n",
            "Epoch [94/135], Train Loss: 0.3656\n",
            "Dev Accuracy: 0.5807\n",
            "Epoch [95/135], Train Loss: 0.3679\n",
            "Dev Accuracy: 0.5657\n",
            "Epoch [96/135], Train Loss: 0.3666\n",
            "Dev Accuracy: 0.5775\n",
            "Epoch [97/135], Train Loss: 0.3396\n",
            "Dev Accuracy: 0.5841\n",
            "Epoch [98/135], Train Loss: 0.3469\n",
            "Dev Accuracy: 0.5726\n",
            "Epoch [99/135], Train Loss: 0.3402\n",
            "Dev Accuracy: 0.5723\n",
            "Epoch [100/135], Train Loss: 0.3201\n",
            "Dev Accuracy: 0.5752\n",
            "Epoch [101/135], Train Loss: 0.3322\n",
            "Dev Accuracy: 0.5815\n",
            "Epoch [102/135], Train Loss: 0.3074\n",
            "Dev Accuracy: 0.5741\n",
            "Epoch [103/135], Train Loss: 0.3064\n",
            "Dev Accuracy: 0.5781\n",
            "Epoch [104/135], Train Loss: 0.3059\n",
            "Dev Accuracy: 0.5758\n",
            "Epoch [105/135], Train Loss: 0.3160\n",
            "Dev Accuracy: 0.5674\n",
            "Epoch [106/135], Train Loss: 0.3691\n",
            "Dev Accuracy: 0.5856\n",
            "Epoch [107/135], Train Loss: 0.2820\n",
            "Dev Accuracy: 0.5689\n",
            "Epoch [108/135], Train Loss: 0.3352\n",
            "Dev Accuracy: 0.5741\n",
            "Epoch [109/135], Train Loss: 0.2989\n",
            "Dev Accuracy: 0.5669\n",
            "Epoch [110/135], Train Loss: 0.3001\n",
            "Dev Accuracy: 0.5798\n",
            "Epoch [111/135], Train Loss: 0.2652\n",
            "Dev Accuracy: 0.5674\n",
            "Epoch [112/135], Train Loss: 0.2893\n",
            "Dev Accuracy: 0.5789\n",
            "Epoch [113/135], Train Loss: 0.2467\n",
            "Dev Accuracy: 0.5752\n",
            "Epoch [114/135], Train Loss: 0.2694\n",
            "Dev Accuracy: 0.5752\n",
            "Epoch [115/135], Train Loss: 0.2451\n",
            "Dev Accuracy: 0.5723\n",
            "Epoch [116/135], Train Loss: 0.2422\n",
            "Dev Accuracy: 0.5726\n",
            "Epoch [117/135], Train Loss: 0.2315\n",
            "Dev Accuracy: 0.5735\n",
            "Epoch [118/135], Train Loss: 0.2314\n",
            "Dev Accuracy: 0.5795\n",
            "Epoch [119/135], Train Loss: 0.2192\n",
            "Dev Accuracy: 0.5749\n",
            "Epoch [120/135], Train Loss: 0.2201\n",
            "Dev Accuracy: 0.5761\n",
            "Epoch [121/135], Train Loss: 0.2067\n",
            "Dev Accuracy: 0.5766\n",
            "Epoch [122/135], Train Loss: 0.2063\n",
            "Dev Accuracy: 0.5752\n",
            "Epoch [123/135], Train Loss: 0.1972\n",
            "Dev Accuracy: 0.5761\n",
            "Epoch [124/135], Train Loss: 0.1951\n",
            "Dev Accuracy: 0.5761\n",
            "Epoch [125/135], Train Loss: 0.1881\n",
            "Dev Accuracy: 0.5766\n",
            "Epoch [126/135], Train Loss: 0.1850\n",
            "Dev Accuracy: 0.5769\n",
            "Epoch [127/135], Train Loss: 0.1795\n",
            "Dev Accuracy: 0.5700\n",
            "Epoch [128/135], Train Loss: 0.1764\n",
            "Dev Accuracy: 0.5712\n",
            "Epoch [129/135], Train Loss: 0.1679\n",
            "Dev Accuracy: 0.5700\n",
            "Epoch [130/135], Train Loss: 0.1664\n",
            "Dev Accuracy: 0.5669\n",
            "Epoch [131/135], Train Loss: 0.1625\n",
            "Dev Accuracy: 0.5706\n",
            "Epoch [132/135], Train Loss: 0.1550\n",
            "Dev Accuracy: 0.5732\n",
            "Epoch [133/135], Train Loss: 0.1569\n",
            "Dev Accuracy: 0.5729\n",
            "Epoch [134/135], Train Loss: 0.1555\n",
            "Dev Accuracy: 0.5689\n",
            "Epoch [135/135], Train Loss: 0.1503\n",
            "Dev Accuracy: 0.5697\n"
          ]
        }
      ],
      "source": [
        "for epoch in range(num_epochs):\n",
        "    model.train()\n",
        "    optimizer.zero_grad()\n",
        "    outputs = model(Xtrain).squeeze()\n",
        "    #print(outputs)\n",
        "    loss = criterion(outputs, ytrain.squeeze().float())\n",
        "    loss.backward()\n",
        "    optimizer.step()\n",
        "    print(f'Epoch [{epoch+1}/{num_epochs}], Train Loss: {loss.item():.4f}')\n",
        "    model.eval()\n",
        "    with torch.no_grad():\n",
        "        outputs = model(Xdev).squeeze()\n",
        "        op_cpu = outputs.cpu()\n",
        "        predictions = [int(o.item()>0) for o in op_cpu]\n",
        "        ydev_cpu = ydev.cpu().numpy()\n",
        "        accuracy = accuracy_score(ydev_cpu, predictions)\n",
        "        print(f'Dev Accuracy: {accuracy:.4f}')\n",
        ""
      ]
    },
    {
      "cell_type": "code",
      "source": [
        "Xtest = torch.load('preprocessed_data/Xtest.pt').to(device)\n",
        "ytest= torch.load('preprocessed_data/ytest.pt').unsqueeze(1).to(device)"
      ],
      "metadata": {
        "id": "zcHM8KmJTogA"
      },
      "execution_count": 30,
      "outputs": []
    },
    {
      "cell_type": "code",
      "source": [
        "model.eval()\n",
        "with torch.no_grad():\n",
        "    outputs = model(Xtest).squeeze()\n",
        "    op_cpu = outputs.cpu()\n",
        "    predictions = [int(o.item()>0) for o in op_cpu]\n",
        "    ytest_cpu = ytest.cpu().numpy()\n",
        "    accuracy = accuracy_score(ytest_cpu, predictions)\n",
        "    print(f'Test Accuracy: {accuracy:.4f}')\n",
        "    print(classification_report(ytest_cpu, predictions))"
      ],
      "metadata": {
        "colab": {
          "base_uri": "https://localhost:8080/"
        },
        "id": "eOyMvNuOUK8T",
        "outputId": "fe15b885-3d3a-41fd-9b4c-1426344af831"
      },
      "execution_count": 31,
      "outputs": [
        {
          "output_type": "stream",
          "name": "stdout",
          "text": [
            "Test Accuracy: 0.5816\n",
            "              precision    recall  f1-score   support\n",
            "\n",
            "         0.0       0.65      0.50      0.56      2816\n",
            "         1.0       0.53      0.68      0.60      2382\n",
            "\n",
            "    accuracy                           0.58      5198\n",
            "   macro avg       0.59      0.59      0.58      5198\n",
            "weighted avg       0.60      0.58      0.58      5198\n",
            "\n"
          ]
        }
      ]
    },
    {
      "cell_type": "code",
      "source": [
        "model.eval()\n",
        "with torch.no_grad():\n",
        "    outputs = model(Xdev).squeeze()\n",
        "    op_cpu = outputs.cpu()\n",
        "    predictions = [int(o.item()>0) for o in op_cpu]\n",
        "    ydev_cpu = ydev.cpu().numpy()\n",
        "    accuracy = accuracy_score(ydev_cpu, predictions)\n",
        "    print(f'Dev Accuracy: {accuracy:.4f}')\n",
        "    print(classification_report(ydev_cpu, predictions))"
      ],
      "metadata": {
        "colab": {
          "base_uri": "https://localhost:8080/"
        },
        "id": "BCvk_n_oUjD3",
        "outputId": "a05a903f-a838-4cc5-d9c5-9f4f7ccf99fb"
      },
      "execution_count": 32,
      "outputs": [
        {
          "output_type": "stream",
          "name": "stdout",
          "text": [
            "Dev Accuracy: 0.5697\n",
            "              precision    recall  f1-score   support\n",
            "\n",
            "         0.0       0.56      0.55      0.55      1690\n",
            "         1.0       0.58      0.59      0.59      1787\n",
            "\n",
            "    accuracy                           0.57      3477\n",
            "   macro avg       0.57      0.57      0.57      3477\n",
            "weighted avg       0.57      0.57      0.57      3477\n",
            "\n"
          ]
        }
      ]
    }
  ],
  "metadata": {
    "kernelspec": {
      "display_name": "Python 3",
      "name": "python3"
    },
    "language_info": {
      "codemirror_mode": {
        "name": "ipython",
        "version": 3
      },
      "file_extension": ".py",
      "mimetype": "text/x-python",
      "name": "python",
      "nbconvert_exporter": "python",
      "pygments_lexer": "ipython3",
      "version": "3.11.4"
    },
    "colab": {
      "provenance": [],
      "gpuType": "T4"
    },
    "accelerator": "GPU"
  },
  "nbformat": 4,
  "nbformat_minor": 0
}